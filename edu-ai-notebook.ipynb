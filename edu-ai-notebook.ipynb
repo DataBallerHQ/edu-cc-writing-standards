{
 "cells": [
  {
   "cell_type": "markdown",
   "id": "3e232076-2504-44b4-bd3b-cdd53b3788cb",
   "metadata": {},
   "source": [
    "OPENAI_API_KEY is required for connection to `openai` api."
   ]
  },
  {
   "cell_type": "code",
   "execution_count": 1,
   "id": "7c5f7367-80aa-408c-b026-dfbfcb64afd0",
   "metadata": {},
   "outputs": [],
   "source": [
    "import genAI"
   ]
  },
  {
   "cell_type": "markdown",
   "id": "ba22c5a5-de17-4e47-b865-1e729eea5576",
   "metadata": {},
   "source": [
    "## Interactive Mode\n",
    "\n",
    "Run the code below to test a Common Core standard."
   ]
  },
  {
   "cell_type": "code",
   "execution_count": 3,
   "id": "78262427-c270-49ec-840c-75ad8c37e308",
   "metadata": {},
   "outputs": [
    {
     "name": "stdout",
     "output_type": "stream",
     "text": [
      "\n",
      "\n"
     ]
    },
    {
     "name": "stdin",
     "output_type": "stream",
     "text": [
      "Please enter the theme: chess\n"
     ]
    },
    {
     "name": "stdout",
     "output_type": "stream",
     "text": [
      "\n",
      "\n",
      "Here are the available standards:\n",
      "1 : CCSS.ELA-LITERACY.W.4.9\n"
     ]
    },
    {
     "name": "stdin",
     "output_type": "stream",
     "text": [
      "Please select a standard [1-1]: \n",
      "Please select a standard [1-1]: 1\n"
     ]
    },
    {
     "name": "stdout",
     "output_type": "stream",
     "text": [
      "\n",
      "Theme:\n",
      "chess\n",
      "\n",
      "Standard:\n",
      "CCSS.ELA-LITERACY.W.4.9 - Draw evidence from literary or informational texts to support analysis, reflection, and research.\n",
      "\n",
      "Gettig question...\n",
      "\n",
      "Context:\n",
      "Chess is a strategic board game that has been played for centuries. It is played on a square board divided into 64 squares of alternating colors. Each player starts with 16 pieces: one king, one queen, two rooks, two knights, two bishops, and eight pawns. The objective of the game is to checkmate the opponent's king, which means the king is in a position to be captured (in 'check') and there is no legal move to remove the threat (mate). Chess requires critical thinking, problem-solving, and planning ahead. It is often considered a game of strategy and tactics.\n",
      "\n",
      "Question:\n",
      "Based on the context, why is chess considered a game of strategy and tactics?\n",
      "\n",
      "Evaluation:\n",
      "{'4': 'The student provides a detailed response that explains how chess requires critical thinking, problem-solving, and planning ahead.', '3': 'The student provides a response that mentions some aspects of critical thinking, problem-solving, and planning ahead in chess.', '2': 'The student provides a vague or incomplete response about the strategic and tactical aspects of chess.', '1': 'The student provides a response that is unrelated to the strategic and tactical aspects of chess.', '0': 'The student does not provide a response or the response is completely incorrect.'}\n"
     ]
    }
   ],
   "source": [
    "genAI.run_interactive()"
   ]
  },
  {
   "cell_type": "code",
   "execution_count": null,
   "id": "60106899-471a-4487-8a6e-b159defb35b4",
   "metadata": {},
   "outputs": [],
   "source": [
    "cc_standard = standards[standard_input.value]\n",
    "theme = theme_input.value\n",
    "messages = generate_question_messages(cc_standard, theme)\n",
    "response = get_response(messages)"
   ]
  },
  {
   "cell_type": "code",
   "execution_count": null,
   "id": "beea1f2e-57e4-4dc6-9515-32ad38156268",
   "metadata": {},
   "outputs": [],
   "source": [
    "message = response[\"choices\"][0][\"message\"] \n",
    "messages.append(message)\n",
    "content = json.loads(response[\"choices\"][0][\"message\"][\"content\"])\n",
    "print (\"\\nContext:\")\n",
    "print (content[\"context\"])\n",
    "print (\"\\nQuestion:\")\n",
    "print (content[\"question\"])\n",
    "print (\"\\nEvaluation:\")\n",
    "print (content[\"evaluation\"])"
   ]
  },
  {
   "cell_type": "code",
   "execution_count": null,
   "id": "b995f0d3-56b2-48f3-bb5f-79610b2f435b",
   "metadata": {},
   "outputs": [],
   "source": [
    "answer = \"\"\"\n",
    "It is based on its own set of rules and regulations\n",
    "\"\"\"\n",
    "messages = generate_evaluation_messages(cc_standard, theme, content, answer)\n",
    "response = get_response(messages)"
   ]
  },
  {
   "cell_type": "code",
   "execution_count": null,
   "id": "1ad5a47e-5ca2-4779-9571-6cead97da97f",
   "metadata": {},
   "outputs": [],
   "source": [
    "message = response[\"choices\"][0][\"message\"] \n",
    "messages.append(message)\n",
    "content = json.loads(response[\"choices\"][0][\"message\"][\"content\"])\n",
    "print (\"\\nScore:\\n\" + str(content[\"score\"]))\n",
    "print (\"\\nDetail:\\n\" + (content[\"detail\"]))\n",
    "print (\"\\nCommentary:\\n\" + content[\"commentary\"])\n",
    "      "
   ]
  }
 ],
 "metadata": {
  "kernelspec": {
   "display_name": "Python 3 (ipykernel)",
   "language": "python",
   "name": "python3"
  },
  "language_info": {
   "codemirror_mode": {
    "name": "ipython",
    "version": 3
   },
   "file_extension": ".py",
   "mimetype": "text/x-python",
   "name": "python",
   "nbconvert_exporter": "python",
   "pygments_lexer": "ipython3",
   "version": "3.11.4"
  }
 },
 "nbformat": 4,
 "nbformat_minor": 5
}
