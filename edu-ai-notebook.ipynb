{
 "cells": [
  {
   "cell_type": "markdown",
   "id": "3e232076-2504-44b4-bd3b-cdd53b3788cb",
   "metadata": {},
   "source": [
    "OPENAI_API_KEY is required for connection to `openai` api."
   ]
  },
  {
   "cell_type": "code",
   "execution_count": 26,
   "id": "7c5f7367-80aa-408c-b026-dfbfcb64afd0",
   "metadata": {},
   "outputs": [],
   "source": [
    "import json\n",
    "import genai"
   ]
  },
  {
   "cell_type": "code",
   "execution_count": 22,
   "id": "5f0e771a-ff8d-4441-b266-19eba374938f",
   "metadata": {},
   "outputs": [],
   "source": [
    "standard = genAI.STANDARDS[\"CCSS.ELA-LITERACY.W.4.9\"]\n",
    "theme = \"baseball\"\n",
    "\n",
    "messages = genAI.generate_question_messages(standard, theme)\n",
    "response = genAI.get_response(messages)"
   ]
  },
  {
   "cell_type": "code",
   "execution_count": 24,
   "id": "fcc85cb4-aa65-44ad-940b-b90c1029e1b1",
   "metadata": {},
   "outputs": [
    {
     "name": "stdout",
     "output_type": "stream",
     "text": [
      "{\n",
      "    \"context\": \"In this passage, we will learn about the history of baseball. Baseball is a popular sport in the United States and has a rich history that dates back to the 19th century. It was first played in small towns and eventually became a professional sport. The game is played with two teams, each consisting of nine players. The objective of the game is to score more runs than the opposing team by hitting a ball with a bat and running around a series of bases. Baseball has evolved over time, with changes in rules and equipment. Today, it is played at various levels, from little league to professional leagues like Major League Baseball (MLB).\",\n",
      "    \"question\": \"Based on the passage, what is the objective of the game of baseball?\",\n",
      "    \"evaluation\": {\n",
      "        \"4\": \"The student accurately identifies that the objective of the game of baseball is to score more runs than the opposing team by hitting a ball with a bat and running around a series of bases.\",\n",
      "        \"3\": \"The student partially identifies that the objective of the game of baseball is to score runs, but does not mention the specifics of hitting a ball with a bat and running around bases.\",\n",
      "        \"2\": \"The student provides a vague or incomplete response that does not clearly identify the objective of the game of baseball.\",\n",
      "        \"1\": \"The student's response is incorrect or unrelated to the objective of the game of baseball.\",\n",
      "        \"0\": \"No response or irrelevant response.\"\n",
      "    }\n",
      "}\n"
     ]
    }
   ],
   "source": [
    "content = json.loads(response[\"choices\"][0][\"message\"][\"content\"])\n",
    "print(json.dumps(content, indent=4))"
   ]
  },
  {
   "cell_type": "markdown",
   "id": "ba22c5a5-de17-4e47-b865-1e729eea5576",
   "metadata": {},
   "source": [
    "## Interactive Mode\n",
    "\n",
    "Run the code below to test a Common Core standard."
   ]
  },
  {
   "cell_type": "code",
   "execution_count": 8,
   "id": "78262427-c270-49ec-840c-75ad8c37e308",
   "metadata": {},
   "outputs": [
    {
     "name": "stdout",
     "output_type": "stream",
     "text": [
      "\n",
      "\n"
     ]
    },
    {
     "name": "stdin",
     "output_type": "stream",
     "text": [
      "Please enter the theme: football\n"
     ]
    },
    {
     "name": "stdout",
     "output_type": "stream",
     "text": [
      "\n",
      "\n",
      "Here are the available standards:\n",
      "1 : CCSS.ELA-LITERACY.W.4.9\n"
     ]
    },
    {
     "name": "stdin",
     "output_type": "stream",
     "text": [
      "Please select a standard [1-1]: 1\n"
     ]
    },
    {
     "name": "stdout",
     "output_type": "stream",
     "text": [
      "\n",
      "Theme:\n",
      "football\n",
      "\n",
      "Standard:\n",
      "CCSS.ELA-LITERACY.W.4.9 - Draw evidence from literary or informational texts to support analysis, reflection, and research.\n",
      "\n",
      "Gettig question...\n",
      "\n",
      "Context:\n",
      "Football is a popular sport played around the world. It is a team sport that involves two teams of eleven players each. The objective of the game is to score more points than the opposing team by advancing the ball into the opponent's end zone. Football is played on a rectangular field with goalposts at each end. The game consists of four quarters, and each team has a chance to possess the ball and score. Players can pass, run, or kick the ball to gain yards and ultimately score touchdowns or field goals. Football requires teamwork, strategy, and physical skills such as speed, agility, and strength.\n",
      "\n",
      "Question:\n",
      "Based on the context, describe three important skills that football players need to be successful.\n",
      "\n",
      "Evaluation:\n",
      "{'4': 'The response accurately identifies three important skills that football players need to be successful and provides detailed explanations for each skill.', '3': 'The response identifies three important skills that football players need to be successful but lacks detailed explanations for each skill.', '2': 'The response identifies two important skills that football players need to be successful but lacks detailed explanations for each skill.', '1': 'The response identifies only one important skill that football players need to be successful and lacks detailed explanations for each skill.', '0': 'The response does not identify any important skills that football players need to be successful.'}\n"
     ]
    }
   ],
   "source": [
    "genAI.run_interactive()"
   ]
  },
  {
   "cell_type": "code",
   "execution_count": null,
   "id": "60106899-471a-4487-8a6e-b159defb35b4",
   "metadata": {},
   "outputs": [],
   "source": [
    "cc_standard = standards[standard_input.value]\n",
    "theme = theme_input.value\n",
    "messages = generate_question_messages(cc_standard, theme)\n",
    "response = get_response(messages)"
   ]
  },
  {
   "cell_type": "code",
   "execution_count": null,
   "id": "beea1f2e-57e4-4dc6-9515-32ad38156268",
   "metadata": {},
   "outputs": [],
   "source": [
    "message = response[\"choices\"][0][\"message\"] \n",
    "messages.append(message)\n",
    "content = json.loads(response[\"choices\"][0][\"message\"][\"content\"])\n",
    "print (\"\\nContext:\")\n",
    "print (content[\"context\"])\n",
    "print (\"\\nQuestion:\")\n",
    "print (content[\"question\"])\n",
    "print (\"\\nEvaluation:\")\n",
    "print (content[\"evaluation\"])"
   ]
  },
  {
   "cell_type": "code",
   "execution_count": null,
   "id": "b995f0d3-56b2-48f3-bb5f-79610b2f435b",
   "metadata": {},
   "outputs": [],
   "source": [
    "answer = \"\"\"\n",
    "It is based on its own set of rules and regulations\n",
    "\"\"\"\n",
    "messages = generate_evaluation_messages(cc_standard, theme, content, answer)\n",
    "response = get_response(messages)"
   ]
  },
  {
   "cell_type": "code",
   "execution_count": null,
   "id": "1ad5a47e-5ca2-4779-9571-6cead97da97f",
   "metadata": {},
   "outputs": [],
   "source": [
    "message = response[\"choices\"][0][\"message\"] \n",
    "messages.append(message)\n",
    "content = json.loads(response[\"choices\"][0][\"message\"][\"content\"])\n",
    "print (\"\\nScore:\\n\" + str(content[\"score\"]))\n",
    "print (\"\\nDetail:\\n\" + (content[\"detail\"]))\n",
    "print (\"\\nCommentary:\\n\" + content[\"commentary\"])\n",
    "      "
   ]
  }
 ],
 "metadata": {
  "kernelspec": {
   "display_name": "Python 3 (ipykernel)",
   "language": "python",
   "name": "python3"
  },
  "language_info": {
   "codemirror_mode": {
    "name": "ipython",
    "version": 3
   },
   "file_extension": ".py",
   "mimetype": "text/x-python",
   "name": "python",
   "nbconvert_exporter": "python",
   "pygments_lexer": "ipython3",
   "version": "3.11.4"
  }
 },
 "nbformat": 4,
 "nbformat_minor": 5
}
