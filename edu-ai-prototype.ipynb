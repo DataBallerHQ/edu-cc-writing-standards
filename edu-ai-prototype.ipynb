{
 "cells": [
  {
   "cell_type": "markdown",
   "id": "d3039dfb-23d1-4254-863a-80ab794625e4",
   "metadata": {
    "editable": true,
    "slideshow": {
     "slide_type": ""
    },
    "tags": []
   },
   "source": [
    "# Interactive Education/AI Prototype\n",
    "Use the inputs below to generate a standards-based question and provide a response for evaluation."
   ]
  },
  {
   "cell_type": "code",
   "execution_count": 1,
   "id": "19514c22-26ba-471d-acec-3c401f3273ee",
   "metadata": {
    "editable": true,
    "slideshow": {
     "slide_type": ""
    },
    "tags": []
   },
   "outputs": [],
   "source": [
    "import json\n",
    "import genai\n",
    "import widgets\n",
    "import textwrap"
   ]
  },
  {
   "cell_type": "code",
   "execution_count": 2,
   "id": "5096e698-267a-4bb9-8eff-68e28d4dadb5",
   "metadata": {
    "editable": true,
    "slideshow": {
     "slide_type": ""
    },
    "tags": []
   },
   "outputs": [
    {
     "data": {
      "application/vnd.jupyter.widget-view+json": {
       "model_id": "616391e6e33a456f9224ac510581fcca",
       "version_major": 2,
       "version_minor": 0
      },
      "text/plain": [
       "Dropdown(description='Select standard:', options=(('CCSS.ELA-LITERACY.W.4.9', 'CCSS.ELA-LITERACY.W.4.9 - Draw …"
      ]
     },
     "metadata": {},
     "output_type": "display_data"
    },
    {
     "data": {
      "application/vnd.jupyter.widget-view+json": {
       "model_id": "fe21efbebd1243a9bde5571518979cbe",
       "version_major": 2,
       "version_minor": 0
      },
      "text/plain": [
       "Text(value='', description='Context theme:', placeholder='Enter theme here')"
      ]
     },
     "metadata": {},
     "output_type": "display_data"
    }
   ],
   "source": [
    "# display the input widgets\n",
    "display(widgets.input_standard)\n",
    "display(widgets.input_theme)"
   ]
  },
  {
   "cell_type": "code",
   "execution_count": 3,
   "id": "9d1470a6-6c30-41c9-8cd4-6f4d2c1f0063",
   "metadata": {
    "editable": true,
    "slideshow": {
     "slide_type": ""
    },
    "tags": []
   },
   "outputs": [
    {
     "name": "stdout",
     "output_type": "stream",
     "text": [
      "\n",
      "Standard:\n",
      "CCSS.ELA-LITERACY.W.4.9 - Draw evidence from literary or\n",
      "informational texts to support analysis, reflection, and\n",
      "research.\n",
      "\n",
      "Theme:\n",
      "baseball\n",
      "\n",
      "Getting question...\n",
      "Ready.\n",
      "\n",
      "Context:\n",
      "In this passage, we will learn about the history of\n",
      "baseball. Baseball is a popular sport in the United States\n",
      "and has a rich history. It was first played in the mid-19th\n",
      "century and has since become known as America's pastime. The\n",
      "game is played with two teams, each consisting of nine\n",
      "players. The objective of the game is to score more runs\n",
      "than the opposing team. Baseball is played on a field with\n",
      "four bases: first base, second base, third base, and home\n",
      "plate. The game is divided into innings, and each team takes\n",
      "turns batting and fielding. The team that scores the most\n",
      "runs after nine innings wins the game. Baseball has produced\n",
      "many legendary players, such as Babe Ruth, Jackie Robinson,\n",
      "and Derek Jeter.\n",
      "\n",
      "Question:\n",
      "Based on the passage, who are some legendary baseball\n",
      "players?\n"
     ]
    }
   ],
   "source": [
    "# confirm theme selection\n",
    "q_content = {}\n",
    "if widgets.input_theme.value != \"\":\n",
    "    widgets.print_section(\"Standard\", widgets.input_standard.value)\n",
    "    widgets.print_section(\"Theme\", widgets.input_theme.value)\n",
    "    messages = genai.generate_question_messages(\n",
    "        widgets.input_standard.value,\n",
    "        widgets.input_theme.value\n",
    "    )\n",
    "    print(\"\\nGetting question...\")\n",
    "    response = genai.get_model_response(messages)\n",
    "    print(\"Ready.\")\n",
    "    q_content = json.loads(response[\"choices\"][0][\"message\"][\"content\"])\n",
    "    widgets.print_section(\"Context\", q_content[\"context\"])\n",
    "    widgets.print_section(\"Question\", q_content[\"question\"])\n",
    "    # widgets.print_section(\"Context\", content[\"context\"])\n",
    "\n",
    "else:\n",
    "    print (\"Please enter a theme.\")"
   ]
  },
  {
   "cell_type": "code",
   "execution_count": 4,
   "id": "5721652c-0fb5-4cef-8d39-a4fae43a7502",
   "metadata": {
    "editable": true,
    "slideshow": {
     "slide_type": ""
    },
    "tags": []
   },
   "outputs": [
    {
     "data": {
      "application/vnd.jupyter.widget-view+json": {
       "model_id": "f4eb9f7952da409f9ba93a8214257a64",
       "version_major": 2,
       "version_minor": 0
      },
      "text/plain": [
       "Textarea(value='', description='Answer:', placeholder='Enter answer here')"
      ]
     },
     "metadata": {},
     "output_type": "display_data"
    }
   ],
   "source": [
    "display(widgets.input_answer)"
   ]
  },
  {
   "cell_type": "code",
   "execution_count": 12,
   "id": "6d226383-50bd-4ec6-81fd-55ef39d13600",
   "metadata": {
    "editable": true,
    "slideshow": {
     "slide_type": ""
    },
    "tags": []
   },
   "outputs": [
    {
     "name": "stdout",
     "output_type": "stream",
     "text": [
      "\n",
      "Evaluating answer...\n",
      "Ready.\n",
      "\n",
      "Score:\n",
      "1\n",
      "\n",
      "Detail:\n",
      "The student provides minimal or incorrect information about\n",
      "the key elements of football.\n",
      "\n",
      "Commentary:\n",
      "The student's answer, 'Football is fun,' does not accurately\n",
      "identify any key elements of football mentioned in the\n",
      "context. The student's answer does not demonstrate an\n",
      "understanding of teamwork, strategy, physical fitness, or\n",
      "any other important aspects of football.\n",
      "\n",
      "Evaluation Rubric:\n",
      "[4]: The student accurately identifies multiple key elements\n",
      "of football, such as teamwork, strategy, and physical\n",
      "fitness.\n",
      "[3]: The student identifies some key elements of football,\n",
      "but may miss one or two important aspects.\n",
      "[2]: The student identifies a few key elements of football,\n",
      "but misses several important aspects.\n",
      "[1]: The student provides minimal or incorrect information\n",
      "about the key elements of football.\n",
      "[0]: The student does not provide any information about the\n",
      "key elements of football.\n",
      "\n"
     ]
    }
   ],
   "source": [
    "a_content = {}\n",
    "if widgets.input_answer.value != \"\":\n",
    "    messages = genai.generate_evaluation_messages(\n",
    "        widgets.input_standard.value,\n",
    "        widgets.input_theme.value,\n",
    "        q_content,\n",
    "        widgets.input_answer.value\n",
    "    )\n",
    "    print(\"\\nEvaluating answer...\")\n",
    "    response = genai.get_model_response(messages)\n",
    "    print(\"Ready.\")\n",
    "    a_content = json.loads(response[\"choices\"][0][\"message\"][\"content\"])\n",
    "    widgets.print_section(\"Score\", str(a_content[\"score\"]))\n",
    "    widgets.print_section(\"Detail\", a_content[\"detail\"])\n",
    "    widgets.print_section(\"Commentary\", a_content[\"commentary\"])\n",
    "    print(\"\\nEvaluation Rubric:\")\n",
    "    for k,v in q_content[\"evaluation\"].items():\n",
    "        content = f\"[{k}]: {v}\"\n",
    "        print(textwrap.fill(content, width=60))\n",
    "    print(\"\")\n",
    "\n",
    "else:\n",
    "    print (\"Please provide and answer.\")"
   ]
  },
  {
   "cell_type": "code",
   "execution_count": 18,
   "id": "ff8f2787-42db-467c-8a87-8156d4461c53",
   "metadata": {
    "editable": true,
    "slideshow": {
     "slide_type": ""
    },
    "tags": []
   },
   "outputs": [
    {
     "name": "stdout",
     "output_type": "stream",
     "text": [
      "{\n",
      "    \"standard\": \"CCSS.ELA-LITERACY.W.4.9 - Draw evidence from literary or informational texts to support analysis, reflection, and research.\",\n",
      "    \"context\": \"Football is a popular sport played around the world. It is a team sport that involves two teams of eleven players each. The objective of the game is to score more points than the opposing team by advancing the ball into the opponent's end zone. The game is played on a rectangular field with goalposts at each end. Players can pass, kick, or run with the ball to move it towards the opponent's end zone. Football requires teamwork, strategy, and physical fitness. It is a sport that requires both skill and athleticism.\",\n",
      "    \"question\": \"Based on the context, what are some key elements of football?\",\n",
      "    \"evaluation\": {\n",
      "        \"4\": \"The student accurately identifies multiple key elements of football, such as teamwork, strategy, and physical fitness.\",\n",
      "        \"3\": \"The student identifies some key elements of football, but may miss one or two important aspects.\",\n",
      "        \"2\": \"The student identifies a few key elements of football, but misses several important aspects.\",\n",
      "        \"1\": \"The student provides minimal or incorrect information about the key elements of football.\",\n",
      "        \"0\": \"The student does not provide any information about the key elements of football.\"\n",
      "    }\n",
      "}\n"
     ]
    }
   ],
   "source": [
    "a_resp = {}\n",
    "a_resp[\"standard\"] = q_content[\"standard\"]\n",
    "a_resp[\"context\"] = q_content[\"context\"]\n",
    "a_resp[\"question\"] = q_content[\"question\"]\n",
    "a_resp[\"evaluation\"] = q_content[\"evaluation\"]\n",
    "\n",
    "print(json.dumps(a_resp, indent=4))\n"
   ]
  },
  {
   "cell_type": "code",
   "execution_count": 11,
   "id": "7e0178ff-9195-4c8e-9c55-871e3ca5cf76",
   "metadata": {
    "editable": true,
    "slideshow": {
     "slide_type": ""
    },
    "tags": []
   },
   "outputs": [],
   "source": [
    "messages = genai.generate_ai_answers_message(q_content, 4)\n",
    "response = genai.get_model_response(messages, temperature=1)"
   ]
  },
  {
   "cell_type": "code",
   "execution_count": 24,
   "id": "262a6efb-c965-428a-a04d-2ad5328d17db",
   "metadata": {
    "editable": true,
    "slideshow": {
     "slide_type": ""
    },
    "tags": []
   },
   "outputs": [
    {
     "name": "stdout",
     "output_type": "stream",
     "text": [
      "[\n",
      "    {\n",
      "        \"role\": \"system\",\n",
      "        \"content\": \"\\nUse the following step-by-step instructions to respond to user inputs. The user is a grade-school teacher and will provide a common core education standard and a theme. The standard and the theme will be in quotes, separated by a comma. You will provide the teacher with the information necessary to evaluate a student against the standard.\\nProvide the response content in JSON format.\\nStep 1 - Use the provided theme to randomly select a topic and generate context material about which a student could answer questions. Use the vocabulary and syntax of the standard's target grade level. Use the key \\\"context\\\" for this JSON object.\\nStep 2 - Generate a free-response question that can be answered by reading the context that will test the common core standard. Use the vocabulary and syntax of the standard's target grade level. Use the key \\\"question\\\" for this JSON object.\\nStep 3 - Generate an evaluation rubric based on the context. Use a scale from 4 points (best) to 0 points (worst). Use the key \\\"evaluation\\\" for this JSON object with numeric score amd text description key value pairs.\\nRepeat the previous steps to produce different contexts and questions. \\n        \"\n",
      "    },\n",
      "    {\n",
      "        \"role\": \"user\",\n",
      "        \"content\": \"\\\"CCSS.ELA-LITERACY.W.4.9 - Draw evidence from literary or informational texts to support analysis, reflection, and research.\\\",\\\"baseball\\\"\"\n",
      "    }\n",
      "]\n",
      "[\n",
      "    {\n",
      "        \"role\": \"system\",\n",
      "        \"content\": \"\\nThe user is a grade-school teacher and will provide a JSON object containing the following:\\n- A common core education standard with key \\\"standard\\\"\\n- The theme of the standard with the key \\\"theme\\\"\\n- A question with key \\\"question\\\"\\n- A student's answer to the question with the key \\\"answer\\\"\\n- The context necessary to answer the question with key \\\"context\\\"\\n- An evaluation rubric to score the answer with the key \\\"evaluation\\\"\\nEvaluate the student's answer based solely on the information provided in the context. \\nDo not consider any additional knowledge or information about the theme of baseball.\\nRespond in JSON format with the following:\\n- The numeric score from the evaluation. Use the key \\\"score\\\"\\n- The rubric description assigned to the score. Use the key \\\"detail\\\"\\n- Provide details about how you arrived as the score. Use the key \\\"commentary\\\"\\n            \"\n",
      "    },\n",
      "    {\n",
      "        \"role\": \"user\",\n",
      "        \"content\": \"{\\\"context\\\": \\\"In this passage, we will learn about the history of baseball. Baseball is a popular sport in the United States and has a rich history. It was first played in the mid-19th century and has since become known as America's pastime. The game is played with two teams, each consisting of nine players. The objective of the game is to score more runs than the opposing team. Baseball is played on a field with four bases: first base, second base, third base, and home plate. The game is divided into innings, and each team takes turns batting and fielding. The team that scores the most runs after nine innings wins the game. Baseball has produced many legendary players, such as Babe Ruth, Jackie Robinson, and Derek Jeter.\\\", \\\"question\\\": \\\"Based on the passage, who are some legendary baseball players?\\\", \\\"evaluation\\\": {\\\"4\\\": \\\"The student accurately identifies multiple legendary baseball players mentioned in the passage.\\\", \\\"3\\\": \\\"The student accurately identifies one legendary baseball player mentioned in the passage.\\\", \\\"2\\\": \\\"The student provides incorrect or incomplete information about legendary baseball players mentioned in the passage.\\\", \\\"1\\\": \\\"The student does not provide any information about legendary baseball players mentioned in the passage.\\\", \\\"0\\\": \\\"The student's response is unrelated to the question or demonstrates a lack of understanding of the passage.\\\"}, \\\"standard\\\": \\\"CCSS.ELA-LITERACY.W.4.9 - Draw evidence from literary or informational texts to support analysis, reflection, and research.\\\", \\\"theme\\\": \\\"baseball\\\", \\\"answer\\\": \\\"\\\"}\"\n",
      "    },\n",
      "    {\n",
      "        \"role\": \"user\",\n",
      "        \"content\": \"\\nEvaluate the student's answer based solely on the rubric and information provided in the context. \\nDo not consider any additional knowledge or information about the theme of baseball.\"\n",
      "    }\n",
      "]\n",
      "[\n",
      "    {\n",
      "        \"role\": \"system\",\n",
      "        \"content\": \"\\nYou are a grade school student. \\nThe user will provide a JSON object containing the information required to answer a question:\\n- A common core education standard with key \\\"standard\\\"\\n- A \\\"context\\\" which provides the only information you should reference when answering the question.\\n- A \\\"question\\\" to be answered\\n- A evaluation rubric with the key evaluation\\\"\\n            \"\n",
      "    },\n",
      "    {\n",
      "        \"role\": \"user\",\n",
      "        \"content\": \"{\\\"context\\\": \\\"In this passage, we will learn about the history of baseball. Baseball is a popular sport in the United States and has a rich history. It was first played in the mid-19th century and has since become known as America's pastime. The game is played with two teams, each consisting of nine players. The objective of the game is to score more runs than the opposing team. Baseball is played on a field with four bases: first base, second base, third base, and home plate. The game is divided into innings, and each team takes turns batting and fielding. The team that scores the most runs after nine innings wins the game. Baseball has produced many legendary players, such as Babe Ruth, Jackie Robinson, and Derek Jeter.\\\", \\\"question\\\": \\\"Based on the passage, who are some legendary baseball players?\\\", \\\"evaluation\\\": {\\\"4\\\": \\\"The student accurately identifies multiple legendary baseball players mentioned in the passage.\\\", \\\"3\\\": \\\"The student accurately identifies one legendary baseball player mentioned in the passage.\\\", \\\"2\\\": \\\"The student provides incorrect or incomplete information about legendary baseball players mentioned in the passage.\\\", \\\"1\\\": \\\"The student does not provide any information about legendary baseball players mentioned in the passage.\\\", \\\"0\\\": \\\"The student's response is unrelated to the question or demonstrates a lack of understanding of the passage.\\\"}, \\\"standard\\\": \\\"CCSS.ELA-LITERACY.W.4.9 - Draw evidence from literary or informational texts to support analysis, reflection, and research.\\\", \\\"theme\\\": \\\"baseball\\\", \\\"answer\\\": \\\"\\\"}\"\n",
      "    },\n",
      "    {\n",
      "        \"role\": \"user\",\n",
      "        \"content\": \"\\nProvide an answer to the question that would evaluate to a score of 2 based on the included evaluation rubric. \\nAnswer as a grade school student at the age appropriate for the indicated standard.\\n            \"\n",
      "    }\n",
      "]\n"
     ]
    }
   ],
   "source": [
    "messages = genai.generate_question_messages(\n",
    "    widgets.input_standard.value,\n",
    "    widgets.input_theme.value\n",
    ")\n",
    "    \n",
    "print (json.dumps(messages, indent=4))\n",
    "\n",
    "\n",
    "messages = genai.generate_evaluation_messages(\n",
    "    widgets.input_standard.value,\n",
    "    widgets.input_theme.value,\n",
    "    q_content,\n",
    "    widgets.input_answer.value\n",
    ")\n",
    "\n",
    "print (json.dumps(messages, indent=4))\n",
    "\n",
    "messages = genai.generate_ai_answers_message(\n",
    "    q_content,\n",
    "    2\n",
    ")\n",
    "\n",
    "print (json.dumps(messages, indent=4))\n"
   ]
  },
  {
   "cell_type": "code",
   "execution_count": null,
   "id": "6e56e02a-e447-4b1c-acd4-20431684c369",
   "metadata": {
    "editable": true,
    "slideshow": {
     "slide_type": ""
    },
    "tags": []
   },
   "outputs": [],
   "source": []
  }
 ],
 "metadata": {
  "kernelspec": {
   "display_name": "Python 3 (ipykernel)",
   "language": "python",
   "name": "python3"
  },
  "language_info": {
   "codemirror_mode": {
    "name": "ipython",
    "version": 3
   },
   "file_extension": ".py",
   "mimetype": "text/x-python",
   "name": "python",
   "nbconvert_exporter": "python",
   "pygments_lexer": "ipython3",
   "version": "3.11.4"
  }
 },
 "nbformat": 4,
 "nbformat_minor": 5
}
